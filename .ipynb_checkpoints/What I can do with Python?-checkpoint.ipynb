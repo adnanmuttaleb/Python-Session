{
 "cells": [
  {
   "cell_type": "markdown",
   "metadata": {
    "slideshow": {
     "slide_type": "slide"
    }
   },
   "source": [
    "<h1>What is Programming?</h1>"
   ]
  },
  {
   "cell_type": "markdown",
   "metadata": {
    "slideshow": {
     "slide_type": "subslide"
    }
   },
   "source": [
    "<i><q>It is the art of creating computer programmes.</q></i>"
   ]
  },
  {
   "cell_type": "markdown",
   "metadata": {
    "slideshow": {
     "slide_type": "slide"
    }
   },
   "source": [
    "<h1>What is a program?</h1>"
   ]
  },
  {
   "cell_type": "markdown",
   "metadata": {
    "slideshow": {
     "slide_type": "subslide"
    }
   },
   "source": [
    "<p>Both complex and simple programmes can be reduced to these terms:</p>\n",
    "<img src=\"https://upload.wikimedia.org/wikipedia/commons/c/c0/IPO.png\"/>"
   ]
  },
  {
   "cell_type": "markdown",
   "metadata": {
    "slideshow": {
     "slide_type": "slide"
    }
   },
   "source": [
    "<h1> Some of the possible input devices:</h1>"
   ]
  },
  {
   "cell_type": "markdown",
   "metadata": {
    "slideshow": {
     "slide_type": "subslide"
    }
   },
   "source": [
    "<img src=\"https://store.storeimages.cdn-apple.com/4982/as-images.apple.com/is/MQ052?wid=4000&hei=1800&fmt=jpeg&qlt=95&op_usm=0.5,0.5&.v=1495129815011\" />"
   ]
  },
  {
   "cell_type": "markdown",
   "metadata": {
    "slideshow": {
     "slide_type": "subslide"
    }
   },
   "source": [
    "<img src=\"https://encrypted-tbn0.gstatic.com/images?q=tbn:ANd9GcSJbJ-HZEHPebQppuSsE87i2Yxe3uKjVgSGE_MagN0SgG-Nq_un&s\" />"
   ]
  },
  {
   "cell_type": "markdown",
   "metadata": {
    "slideshow": {
     "slide_type": "subslide"
    }
   },
   "source": [
    "<img src=\"https://fbcd.co/product-lg/0fb264f2682170fa080807899c0b2692_resize.jpg\" />"
   ]
  },
  {
   "cell_type": "markdown",
   "metadata": {
    "slideshow": {
     "slide_type": "subslide"
    }
   },
   "source": [
    "<img src=\"https://icon-library.net/images/touch-screen-icon/touch-screen-icon-28.jpg\" />"
   ]
  },
  {
   "cell_type": "markdown",
   "metadata": {
    "slideshow": {
     "slide_type": "subslide"
    }
   },
   "source": [
    "<img src=\"https://static.thenounproject.com/png/1374309-200.png\" />"
   ]
  },
  {
   "cell_type": "markdown",
   "metadata": {
    "slideshow": {
     "slide_type": "slide"
    }
   },
   "source": [
    "<h1>Some of the output devices:</h1>"
   ]
  },
  {
   "cell_type": "markdown",
   "metadata": {
    "slideshow": {
     "slide_type": "subslide"
    }
   },
   "source": [
    "<ul>\n",
    "<li>Monitor</li>\n",
    "<li>Printer</li>\n",
    "<li>Audio Speakers</li>\n",
    "<li>Headphones</li>\n",
    "<li>Projector</li>\n",
    "<li>Etc..</li>\n",
    "</ul>"
   ]
  },
  {
   "cell_type": "markdown",
   "metadata": {
    "slideshow": {
     "slide_type": "subslide"
    }
   },
   "source": [
    "<img src=\"https://upload.wikimedia.org/wikipedia/commons/c/c0/IPO.png\"/>\n",
    "<p>The \"Processing\" part, is most intresting part, but we will take about it latter.</p>"
   ]
  },
  {
   "cell_type": "markdown",
   "metadata": {
    "slideshow": {
     "slide_type": "slide"
    }
   },
   "source": [
    "<h1>Progamming Languages</h1>"
   ]
  },
  {
   "cell_type": "markdown",
   "metadata": {
    "slideshow": {
     "slide_type": "subslide"
    }
   },
   "source": [
    "Is the tool that allows us to write and craft computer programmes."
   ]
  },
  {
   "cell_type": "markdown",
   "metadata": {
    "slideshow": {
     "slide_type": "subslide"
    }
   },
   "source": [
    "<p>We are specifically intrested in <b>high-level</b> programming languages, where high-level refer to the amount of <b>abstraction</b> from the low-levels details of the computer.</p>"
   ]
  },
  {
   "cell_type": "markdown",
   "metadata": {
    "slideshow": {
     "slide_type": "slide"
    }
   },
   "source": [
    "<h1>Some of the currently usable high-level programming languages:</h1>"
   ]
  },
  {
   "cell_type": "markdown",
   "metadata": {
    "slideshow": {
     "slide_type": "subslide"
    }
   },
   "source": [
    "<ul>\n",
    "    <li>C</li>\n",
    "    <li>Java</li>\n",
    "    <li>C#</li>\n",
    "    <li>Javascript</li>\n",
    "    <li>F#</li>\n",
    "    <li>Python</li>\n",
    "    <li>PHP</li>\n",
    "    <li>Etc..</li>\n",
    "</ul>"
   ]
  },
  {
   "cell_type": "markdown",
   "metadata": {
    "slideshow": {
     "slide_type": "subslide"
    }
   },
   "source": [
    "<ul>\n",
    "    <li>C</li>\n",
    "    <li>Java</li>\n",
    "    <li>C#</li>\n",
    "    <li>Javascript</li>\n",
    "    <li>F#</li>\n",
    "    <li><b>Python</b></li>\n",
    "    <li>PHP</li>\n",
    "    <li>Etc..</li>\n",
    "</ul>"
   ]
  },
  {
   "cell_type": "markdown",
   "metadata": {
    "slideshow": {
     "slide_type": "slide"
    }
   },
   "source": [
    "<h1>What is Python?</h1>"
   ]
  },
  {
   "cell_type": "markdown",
   "metadata": {
    "slideshow": {
     "slide_type": "subslide"
    }
   },
   "source": [
    "<p>Python is high-level programming language that is highly readable and versatile."
   ]
  },
  {
   "cell_type": "markdown",
   "metadata": {
    "slideshow": {
     "slide_type": "subslide"
    }
   },
   "source": [
    "<p>Python is created in 1991 by <a href=\"https://en.wikipedia.org/wiki/Guido_van_Rossum\">Guido van Rossum</a></p>"
   ]
  },
  {
   "cell_type": "markdown",
   "metadata": {
    "slideshow": {
     "slide_type": "slide"
    }
   },
   "source": [
    "<h1>Why Python?</h1>"
   ]
  },
  {
   "cell_type": "markdown",
   "metadata": {
    "slideshow": {
     "slide_type": "subslide"
    }
   },
   "source": [
    "According to last servy of <a href=\"https://stackoverflow.com/\">Stackoverflow</a>:\n",
    "<ul>\n",
    "    <li>Python was the second most loved programming language in both 2018 and 2019.</li>\n",
    "    <li>and the forth popular programming language in 2019.</li>\n",
    "    <li>Several of Python libraries and framewrok exist in the top 10 list of most loved and used programming tools</li>\n",
    "</ul>"
   ]
  },
  {
   "cell_type": "markdown",
   "metadata": {
    "slideshow": {
     "slide_type": "subslide"
    }
   },
   "source": [
    "<a href=\"https://hackr.io/blog/best-programming-languages-to-learn-2019-jobs-future\">hacker.io</a>  and other sites consider Python the best programming language to learn in 2019.\n"
   ]
  },
  {
   "cell_type": "markdown",
   "metadata": {
    "slideshow": {
     "slide_type": "subslide"
    }
   },
   "source": [
    "Python has more than 200k library and framework, used in different types of computing."
   ]
  },
  {
   "cell_type": "markdown",
   "metadata": {
    "slideshow": {
     "slide_type": "slide"
    }
   },
   "source": [
    "<h1>What I can Do With Python?</h1>"
   ]
  },
  {
   "cell_type": "markdown",
   "metadata": {
    "slideshow": {
     "slide_type": "subslide"
    }
   },
   "source": [
    "<p>Will, this slides are written uing Python library called Jupyter Notebook, but you can do alot more than that with python.</p>"
   ]
  },
  {
   "cell_type": "markdown",
   "metadata": {
    "slideshow": {
     "slide_type": "subslide"
    }
   },
   "source": [
    "<h2> Web Programming:</h2>\n",
    "\n",
    "Many of the popular websites are written using Python:\n",
    "<ul>\n",
    "    <li><a href=\"\">Instagram</a></li>\n",
    "    <li><a href=\"\">Quora</a></li>\n",
    "    <li><a href=\"\">Reddit</a></li>\n",
    "    <li><a href=\"\">Youtube</a></li>\n",
    "    <li><a href=\"\">Dropbox</a></li>\n",
    "    <li>And Many Others</li>\n",
    " </ul>"
   ]
  },
  {
   "cell_type": "markdown",
   "metadata": {
    "slideshow": {
     "slide_type": "subslide"
    }
   },
   "source": [
    "<h2> Data Analysis:</h2>\n",
    "\n",
    "Python is widly used for daya analysis opertaions, because of the wide-range of libraries it has for this type of programming. One of the most powerfull libraries used for data anaylsis in python is Pandas.  \n"
   ]
  },
  {
   "cell_type": "markdown",
   "metadata": {
    "slideshow": {
     "slide_type": "subslide"
    }
   },
   "source": [
    "<h2>Data Visualization:</h2>\n",
    "<p>Visualization is usefull for getting some insight about the data, Also charts and graph are better to communicate with than row data.</p>\n",
    "<p>Python has tens of data visualization libraries:</p>\n",
    "<ul>\n",
    "    <li>Matplotlib</li>\n",
    "    <li><a href=\"https://docs.bokeh.org/en/latest/\">Bokeh</a></li>\n",
    "    <li><a href=\"https://plot.ly/python/\">Plotly</a></li>\n",
    "    <li>Seaborn</li>\n",
    "    <li><a href=\"https://dash-gallery.plotly.host/Portal/\">Dash</a></li>\n",
    "    <li>And many others</li>\n",
    "    \n",
    "\n",
    "</ul>"
   ]
  },
  {
   "cell_type": "markdown",
   "metadata": {
    "slideshow": {
     "slide_type": "subslide"
    }
   },
   "source": [
    "<h2>Prediction using Machine Learning:</h2>\n",
    "\n",
    "<p>In basic terms, ML is the process of <b>training</b> a piece of software, called a <b>model</b>, to make useful <b>predictions</b> using a <b>dataset</b>. This predictive model can then serve up predictions about previously <b>unseen data</b>.</p>\n",
    "\n",
    "Lets look on some examples: "
   ]
  },
  {
   "cell_type": "markdown",
   "metadata": {
    "slideshow": {
     "slide_type": "subslide"
    }
   },
   "source": [
    "Imagine we  have the following dataset:\n",
    "\n",
    "<table class=\"dataframe\" border=\"1\">\n",
    "  <thead>\n",
    "    <tr style=\"text-align: right;\">\n",
    "      <th>\n",
    "        <br>\n",
    "      </th>\n",
    "      <th>sepal_length</th>\n",
    "      <th>sepal_width</th>\n",
    "      <th>petal_length</th>\n",
    "      <th>patal_width</th>\n",
    "      <th>class</th>\n",
    "    </tr>\n",
    "  </thead>\n",
    "  <tbody>\n",
    "    <tr>\n",
    "      <th>102</th>\n",
    "      <td>7.1</td>\n",
    "      <td>3.0</td>\n",
    "      <td>5.9</td>\n",
    "      <td>2.1</td>\n",
    "      <td>Iris-virginica</td>\n",
    "    </tr>\n",
    "    <tr>\n",
    "      <th>124</th>\n",
    "      <td>6.7</td>\n",
    "      <td>3.3</td>\n",
    "      <td>5.7</td>\n",
    "      <td>2.1</td>\n",
    "      <td>Iris-virginica</td>\n",
    "    </tr>\n",
    "    <tr>\n",
    "      <th>141</th>\n",
    "      <td>6.9</td>\n",
    "      <td>3.1</td>\n",
    "      <td>5.1</td>\n",
    "      <td>2.3</td>\n",
    "      <td>Iris-virginica</td>\n",
    "    </tr>\n",
    "    <tr>\n",
    "      <th>94</th>\n",
    "      <td>5.6</td>\n",
    "      <td>2.7</td>\n",
    "      <td>4.2</td>\n",
    "      <td>1.3</td>\n",
    "      <td>Iris-versicolor</td>\n",
    "    </tr>\n",
    "    <tr>\n",
    "      <th>130</th>\n",
    "      <td>7.4</td>\n",
    "      <td>2.8</td>\n",
    "      <td>6.1</td>\n",
    "      <td>1.9</td>\n",
    "      <td>Iris-virginica</td>\n",
    "    </tr>\n",
    "    <tr>\n",
    "      <th>70</th>\n",
    "      <td>5.9</td>\n",
    "      <td>3.2</td>\n",
    "      <td>4.8</td>\n",
    "      <td>1.8</td>\n",
    "      <td>Iris-versicolor</td>\n",
    "    </tr>\n",
    "    <tr>\n",
    "      <th>69</th>\n",
    "      <td>5.6</td>\n",
    "      <td>2.5</td>\n",
    "      <td>3.9</td>\n",
    "      <td>1.1</td>\n",
    "      <td>Iris-versicolor</td>\n",
    "    </tr>\n",
    "    <tr>\n",
    "      <th>48</th>\n",
    "      <td>5.3</td>\n",
    "      <td>3.7</td>\n",
    "      <td>1.5</td>\n",
    "      <td>0.2</td>\n",
    "      <td>Iris-setosa</td>\n",
    "    </tr>\n",
    "    <tr>\n",
    "      <th>20</th>\n",
    "      <td>5.4</td>\n",
    "      <td>3.4</td>\n",
    "      <td>1.7</td>\n",
    "      <td>0.2</td>\n",
    "      <td>Iris-setosa</td>\n",
    "    </tr>\n",
    "    <tr>\n",
    "      <th>17</th>\n",
    "      <td>5.1</td>\n",
    "      <td>3.5</td>\n",
    "      <td>1.4</td>\n",
    "      <td>0.3</td>\n",
    "      <td>Iris-setosa</td>\n",
    "    </tr>\n",
    "  </tbody>\n",
    "</table>\n",
    "\n",
    "<p>ML is used here for training a software (model relates between sepal, petal and flower class), to make useful predictions (fllower class) using a dataset (flower dataset). This predictive model can then serve up predictions about previously unseen data (new observed flower).</p>"
   ]
  },
  {
   "cell_type": "markdown",
   "metadata": {
    "slideshow": {
     "slide_type": "subslide"
    }
   },
   "source": [
    "<p> Another example, we may train model that predicts that a user will like a certain video, so the system(Facebook) recommends that video to the user.</p>\n"
   ]
  },
  {
   "cell_type": "markdown",
   "metadata": {
    "slideshow": {
     "slide_type": "subslide"
    }
   },
   "source": [
    "There are different types of ML problems, of different complexities. Some of ML experiments can be found <a href=\"https://experiments.withgoogle.com/collection/ai\">here</a>."
   ]
  },
  {
   "cell_type": "markdown",
   "metadata": {
    "slideshow": {
     "slide_type": "subslide"
    }
   },
   "source": [
    "<h2>Other Uses</h2>\n",
    "<ul>\n",
    "    <li>Web Scraping</li>\n",
    "    <li>Scientific Computing</li>\n",
    "    <li>Web testing Automation</li>\n",
    "    <li>Etc..</li>\n",
    "</ul>"
   ]
  }
 ],
 "metadata": {
  "celltoolbar": "Slideshow",
  "kernelspec": {
   "display_name": "Python 3",
   "language": "python",
   "name": "python3"
  },
  "language_info": {
   "codemirror_mode": {
    "name": "ipython",
    "version": 3
   },
   "file_extension": ".py",
   "mimetype": "text/x-python",
   "name": "python",
   "nbconvert_exporter": "python",
   "pygments_lexer": "ipython3",
   "version": "3.6.8"
  }
 },
 "nbformat": 4,
 "nbformat_minor": 4
}

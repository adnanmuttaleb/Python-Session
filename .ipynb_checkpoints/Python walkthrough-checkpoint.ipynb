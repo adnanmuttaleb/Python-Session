{
 "cells": [
  {
   "cell_type": "markdown",
   "metadata": {
    "slideshow": {
     "slide_type": "slide"
    }
   },
   "source": [
    "<h1>Exploring Python</h1>"
   ]
  },
  {
   "cell_type": "markdown",
   "metadata": {
    "slideshow": {
     "slide_type": "subslide"
    }
   },
   "source": [
    "<img src=\"https://upload.wikimedia.org/wikipedia/commons/c/c0/IPO.png\"/>\n",
    "\n",
    "<p>\n",
    "We process the data that we get from the input devices (regardless of what type they are). What types of data we may process?\n",
    "</p>"
   ]
  },
  {
   "cell_type": "markdown",
   "metadata": {
    "slideshow": {
     "slide_type": "slide"
    }
   },
   "source": [
    "<h2>Data Types and Variables</h2>\n",
    "\n",
    "<p style=\"font-style:italic;\">Think about the data you listen, read, write.., of what types they are?</p>"
   ]
  },
  {
   "cell_type": "markdown",
   "metadata": {
    "slideshow": {
     "slide_type": "subslide"
    }
   },
   "source": [
    "<p><b>Exercise:</b></p>\n",
    "<p>\n",
    "    Group Data of related type togather:\n",
    "Age, Weight, Latitude and Longitude, Name, &pi;, Birth Date, ID, Height, Address, Date, Email, Phone Number, Sun Raise from East, 2D Point, Today is saturday, List of student' names.\n",
    "    \n",
    "</p>\n",
    "\n",
    "<p>Can you mention data types, other than the previous ones?</p> "
   ]
  },
  {
   "cell_type": "markdown",
   "metadata": {
    "slideshow": {
     "slide_type": "subslide"
    }
   },
   "source": [
    "<ul>\n",
    "    <li>Age and ID e.g 40 are <b>Integer Numbers</b></li> \n",
    "    <li>Name, Adresses and emails e.g \"Hassan\" are a <b>Strings of Characters</b></li>\n",
    "    <li>&pi;, weight and height are a <b>Decimals</b></li>\n",
    "    <li>For confirming or nullifying facts (Sun Raise from East, Today is saturday) we say yes or no, we will call this type <b>Boolean</b></li>\n",
    "    <li>Coordinates (Latitude and Longitude) and Points are <b>Tuples of Numbers</b></li>\n",
    "    <li>Student names e.g \"Ali\", \"Ahmad\", \"Saja\", \"Nour\", is just a <b>List of Strings</b> </li>\n",
    "</ul>"
   ]
  },
  {
   "cell_type": "markdown",
   "metadata": {
    "slideshow": {
     "slide_type": "subslide"
    }
   },
   "source": [
    "<p>But how to create data value (the things we want to process) in Python?</p>"
   ]
  },
  {
   "cell_type": "code",
   "execution_count": 32,
   "metadata": {
    "slideshow": {
     "slide_type": "fragment"
    }
   },
   "outputs": [],
   "source": [
    "#Created variable name the holds the value \"Hassan\"\n",
    "name = \"Hassan\"\n",
    "#by variable I mean: It can take any value\n",
    "name = \"Rema\""
   ]
  },
  {
   "cell_type": "code",
   "execution_count": 33,
   "metadata": {
    "slideshow": {
     "slide_type": "fragment"
    }
   },
   "outputs": [],
   "source": [
    "#Create variable of type Integer\n",
    "Age = 40\n",
    "#Create variable of type float\n",
    "PI = 3.14"
   ]
  },
  {
   "cell_type": "code",
   "execution_count": 34,
   "metadata": {
    "slideshow": {
     "slide_type": "fragment"
    }
   },
   "outputs": [],
   "source": [
    "#Create Boolean variable \n",
    "isHassanMarried = False\n",
    "samarLoveIceCream = True"
   ]
  },
  {
   "cell_type": "markdown",
   "metadata": {
    "slideshow": {
     "slide_type": "subslide"
    }
   },
   "source": [
    "Variables are just labels for the actual data stored in the main memory(RAM):\n",
    "<div style=\"text-align:center;\">\n",
    "    <img width=\"500px\" height=\"300px\" src=\"https://www.tenouk.com/Module8_files/cpluspointer001.png\">\n",
    "</div>\n",
    "\n"
   ]
  },
  {
   "cell_type": "markdown",
   "metadata": {
    "slideshow": {
     "slide_type": "subslide"
    }
   },
   "source": [
    "What we can do with numerical data in real life?"
   ]
  },
  {
   "cell_type": "code",
   "execution_count": 35,
   "metadata": {
    "slideshow": {
     "slide_type": "fragment"
    }
   },
   "outputs": [],
   "source": [
    "#we can add them\n",
    "a = 5 + 2\n",
    "#we can subtract them\n",
    "b = 5 - 2\n",
    "#we can multiply them\n",
    "c = 10 * 2\n",
    "#and sure we can divide them\n",
    "d = 4 / 2"
   ]
  },
  {
   "cell_type": "code",
   "execution_count": 36,
   "metadata": {
    "slideshow": {
     "slide_type": "fragment"
    }
   },
   "outputs": [],
   "source": [
    "#what about this?\n",
    "a = 10\n",
    "b = 12\n",
    "\n",
    "c = a + b #a and b will be substituted by thier values and the expression become: c = 10 + 12\n",
    "c = c + 1 #Incrementing c by one"
   ]
  },
  {
   "cell_type": "markdown",
   "metadata": {
    "slideshow": {
     "slide_type": "subslide"
    }
   },
   "source": [
    "What about strings? well, we can place them next to each others <b>(concatentation)</b>:"
   ]
  },
  {
   "cell_type": "code",
   "execution_count": 37,
   "metadata": {
    "slideshow": {
     "slide_type": "fragment"
    }
   },
   "outputs": [],
   "source": [
    "first_name = \"Hassan\"\n",
    "last_name = \"Khaled\"\n",
    "\n",
    "full_name = first_name + last_name"
   ]
  },
  {
   "cell_type": "markdown",
   "metadata": {
    "slideshow": {
     "slide_type": "subslide"
    }
   },
   "source": [
    "In the following example we use a special Python built-in to <b>print</b> the variable to screen(output device):"
   ]
  },
  {
   "cell_type": "code",
   "execution_count": 38,
   "metadata": {
    "slideshow": {
     "slide_type": "fragment"
    }
   },
   "outputs": [
    {
     "name": "stdout",
     "output_type": "stream",
     "text": [
      "HassanKhaled\n"
     ]
    }
   ],
   "source": [
    "first_name = \"Hassan\"\n",
    "last_name = \"Khaled\"\n",
    "\n",
    "full_name = first_name + last_name\n",
    "\n",
    "print(full_name)"
   ]
  },
  {
   "cell_type": "code",
   "execution_count": 39,
   "metadata": {
    "slideshow": {
     "slide_type": "fragment"
    }
   },
   "outputs": [
    {
     "name": "stdout",
     "output_type": "stream",
     "text": [
      "Hassan Khaled\n"
     ]
    }
   ],
   "source": [
    "#add space between\n",
    "full_name = first_name + \" \" + last_name\n",
    "print(full_name)"
   ]
  },
  {
   "cell_type": "markdown",
   "metadata": {
    "slideshow": {
     "slide_type": "subslide"
    }
   },
   "source": [
    "<p>To see variable types we use a special Python built-in (type)</p>"
   ]
  },
  {
   "cell_type": "code",
   "execution_count": 40,
   "metadata": {
    "slideshow": {
     "slide_type": "fragment"
    }
   },
   "outputs": [
    {
     "name": "stdout",
     "output_type": "stream",
     "text": [
      "<class 'str'>\n",
      "<class 'int'>\n",
      "<class 'float'>\n",
      "<class 'bool'>\n"
     ]
    }
   ],
   "source": [
    "#use the type keyword to chack data types\n",
    "\n",
    "print(type(first_name))\n",
    "print(type(Age))\n",
    "print(type(PI))\n",
    "print(type(isHassanMarried))"
   ]
  },
  {
   "cell_type": "markdown",
   "metadata": {
    "slideshow": {
     "slide_type": "slide"
    }
   },
   "source": [
    "<h3> Composite Data Types</h3> \n",
    "\n",
    "All previous variables hold <b>single value</b>, but how to create variables that are <b>multi-value</b> (like the coordinates of point in earth surface (35.232, 32.21))?"
   ]
  },
  {
   "cell_type": "code",
   "execution_count": 41,
   "metadata": {
    "slideshow": {
     "slide_type": "fragment"
    }
   },
   "outputs": [],
   "source": [
    "#coordinated of point\n",
    "coordinates = (35.232, 32.21)\n",
    "\n",
    "#Order is important\n",
    "different_coordinates = (32.21, 35.232)\n",
    "\n",
    "#3D coordinates\n",
    "\n",
    "three_D_point = (12, 3, 5)"
   ]
  },
  {
   "cell_type": "markdown",
   "metadata": {
    "slideshow": {
     "slide_type": "subslide"
    }
   },
   "source": [
    "<p>The above syntax <strong>x = (a1, a2,...an)</strong> is used to create orderd and un-modifiable variable <b>(tuples)</b>.</p>\n",
    "\n",
    "<p>But how to create multi-value variable that is <b>editable (mutable)</b>?<p>"
   ]
  },
  {
   "cell_type": "markdown",
   "metadata": {
    "slideshow": {
     "slide_type": "subslide"
    }
   },
   "source": [
    "<p>List is the answer, list are created in similar way to tuples but instead of <code>(..)</code> we write <code>[...]</code>:</p>"
   ]
  },
  {
   "cell_type": "code",
   "execution_count": 42,
   "metadata": {
    "slideshow": {
     "slide_type": "fragment"
    }
   },
   "outputs": [],
   "source": [
    "students_marks = [16, 18, 17, 19, 20, 20, 15, 12, 9, 0] #this is called a list in python and in life"
   ]
  },
  {
   "cell_type": "code",
   "execution_count": 44,
   "metadata": {
    "slideshow": {
     "slide_type": "fragment"
    }
   },
   "outputs": [
    {
     "name": "stdout",
     "output_type": "stream",
     "text": [
      "51\n"
     ]
    }
   ],
   "source": [
    "#to use specific element in the list\n",
    "first = students_marks[0]\n",
    "second = students_marks[1]\n",
    "third = students_marks[2]\n",
    "\n",
    "#let us sum them\n",
    "total = first + second + third  # same as: total = 16 + 18 + 17\n",
    "\n",
    "print(total) "
   ]
  },
  {
   "cell_type": "markdown",
   "metadata": {
    "slideshow": {
     "slide_type": "slide"
    }
   },
   "source": [
    "<h2> Control Flow</h2>"
   ]
  },
  {
   "cell_type": "markdown",
   "metadata": {
    "slideshow": {
     "slide_type": "subslide"
    }
   },
   "source": [
    "<p>The things we do in life are too repetitive and conditional for example:</p>\n",
    "\n",
    "<blockquote>\n",
    "    <p> we wake up <b>every day</b> </p>\n",
    "    <p> we pray <b>five times</b> in a day</p>\n",
    "    <p> we go to work <b>if</b> today is a weekday <b>else</b> we stay at home</p>\n",
    "    <p> we fail <b>if</b> our marks <b>&lt; 50 else</b> we pass :) </p>\n",
    "    \n",
    "</blockquote>"
   ]
  },
  {
   "cell_type": "markdown",
   "metadata": {
    "slideshow": {
     "slide_type": "subslide"
    }
   },
   "source": [
    "<p><b>Exercise</b>: Think of a monkey and a banana on a 2D grid. This cute monkey wants to eat the banana. It can go left, right, up, and down as long as it stays inside the grid. Write a general recipe that allows the monkey to grap the banana regardless of the grid setup.</p>"
   ]
  },
  {
   "cell_type": "markdown",
   "metadata": {
    "slideshow": {
     "slide_type": "subslide"
    }
   },
   "source": [
    "<p>Now  imagine if we have to print the marks of 1000 students:</p>\n",
    "\n",
    "<code>print(students_marks[0])</code><br>\n",
    "<code>print(students_marks[1])</code><br>\n",
    "<code>print(students_marks[2])</code><br>\n",
    "<code>...</code><br>\n",
    "<code>print(students_marks[N])</code>\n",
    "\n",
    "<p> It would be so tedious thing to do. So Let us state the problem again:</p>\n",
    "\n",
    "\n",
    "<p style=\"font-style:italic;text-align:center\">\"For Each student, print her/his mark\"</p>\n"
   ]
  },
  {
   "cell_type": "markdown",
   "metadata": {
    "slideshow": {
     "slide_type": "subslide"
    }
   },
   "source": [
    "<p>So how to do repetitive things with python?</p>"
   ]
  },
  {
   "cell_type": "markdown",
   "metadata": {
    "slideshow": {
     "slide_type": "subslide"
    }
   },
   "source": [
    "<p>Too similar to how we spell it in english:</p>"
   ]
  },
  {
   "cell_type": "code",
   "execution_count": 45,
   "metadata": {
    "slideshow": {
     "slide_type": "fragment"
    }
   },
   "outputs": [
    {
     "name": "stdout",
     "output_type": "stream",
     "text": [
      "16\n",
      "18\n",
      "17\n",
      "19\n",
      "20\n",
      "20\n",
      "15\n",
      "12\n",
      "9\n",
      "0\n"
     ]
    }
   ],
   "source": [
    "students_marks = [16, 18, 17, 19, 20, 20, 15, 12, 9, 0]\n",
    "for mark in students_marks:\n",
    "    print(mark)"
   ]
  },
  {
   "cell_type": "code",
   "execution_count": 46,
   "metadata": {
    "slideshow": {
     "slide_type": "subslide"
    }
   },
   "outputs": [
    {
     "name": "stdout",
     "output_type": "stream",
     "text": [
      "146\n"
     ]
    }
   ],
   "source": [
    "#in similar way we can sum all student' marks \n",
    "students_marks = [16, 18, 17, 19, 20, 20, 15, 12, 9, 0]\n",
    "total = 0\n",
    "for mark in students_marks:\n",
    "    total = total + mark\n",
    "\n",
    "print(total)"
   ]
  },
  {
   "cell_type": "markdown",
   "metadata": {
    "slideshow": {
     "slide_type": "subslide"
    }
   },
   "source": [
    "<p><b>Exercise:</b> Try to calculate the average of students' marks yourself.</p>"
   ]
  },
  {
   "cell_type": "code",
   "execution_count": 47,
   "metadata": {
    "slideshow": {
     "slide_type": "fragment"
    }
   },
   "outputs": [
    {
     "name": "stdout",
     "output_type": "stream",
     "text": [
      "14.6\n"
     ]
    }
   ],
   "source": [
    "total = 0\n",
    "students_marks = [16, 18, 17, 19, 20, 20, 15, 12, 9, 0]\n",
    "for mark in students_marks:\n",
    "    total = total + mark\n",
    "    \n",
    "avg = total / 10\n",
    "print(avg)"
   ]
  },
  {
   "cell_type": "code",
   "execution_count": 50,
   "metadata": {
    "slideshow": {
     "slide_type": "fragment"
    }
   },
   "outputs": [
    {
     "name": "stdout",
     "output_type": "stream",
     "text": [
      "14.6\n"
     ]
    }
   ],
   "source": [
    "#Better solution has work for any list size\n",
    "students_marks = [16, 18, 17, 19, 20, 20, 15, 12, 9, 0]\n",
    "total = 0\n",
    "for mark in students_marks:\n",
    "    total = total + mark\n",
    "\n",
    "N = len(students_marks) #len is special function in python\n",
    "avg = total / N\n",
    "print(avg)"
   ]
  },
  {
   "cell_type": "markdown",
   "metadata": {
    "slideshow": {
     "slide_type": "subslide"
    }
   },
   "source": [
    "<p>How to write the following statment using Python:</p>\n",
    "<p style=\"text-align:center;font-style:italic\">Count the studens, who have marks above 10?</p>"
   ]
  },
  {
   "cell_type": "code",
   "execution_count": 51,
   "metadata": {
    "slideshow": {
     "slide_type": "fragment"
    }
   },
   "outputs": [
    {
     "name": "stdout",
     "output_type": "stream",
     "text": [
      "8\n"
     ]
    }
   ],
   "source": [
    "#we will use coonditional statement\n",
    "students_marks = [16, 18, 17, 19, 20, 20, 15, 12, 9, 0]\n",
    "count = 0\n",
    "for mark in students_marks:\n",
    "    if mark > 10:\n",
    "        count = count + 1\n",
    "\n",
    "print(count)"
   ]
  },
  {
   "cell_type": "markdown",
   "metadata": {
    "slideshow": {
     "slide_type": "subslide"
    }
   },
   "source": [
    "<p>The previos code uses conditional statements, which are very useful when we want to solve problems that contain conditioning. They are of the following form:</p>\n",
    "\n",
    "<p>\n",
    "    <code>     \n",
    "        if expression op expression:\n",
    "            #statement that is executed if the condition hold\n",
    "    </code>\n",
    "</p>\n",
    "\n",
    "<p>Where expression may be simple variable or more complicated things like <code>((5/2)/5 * 0.15)</code></p>"
   ]
  },
  {
   "cell_type": "markdown",
   "metadata": {
    "slideshow": {
     "slide_type": "subslide"
    }
   },
   "source": [
    "<p><b>op</b> are operators like:</p>\n",
    "<ul>\n",
    "        <li>&gt; Greater than</li>\n",
    "        <li>&lt; Less than</li>\n",
    "        <li>&ge; greater or equal</li>\n",
    "        <li>&le;</li> \n",
    "        <li>== right side equal left side</li>\n",
    "        <li>!= not equal</li>\n",
    "</ul>"
   ]
  },
  {
   "cell_type": "markdown",
   "metadata": {
    "slideshow": {
     "slide_type": "subslide"
    }
   },
   "source": [
    "<p><b>Exercise:</b> Try to Write a programme that counts the students who have full marks.</p>"
   ]
  },
  {
   "cell_type": "code",
   "execution_count": 52,
   "metadata": {
    "slideshow": {
     "slide_type": "fragment"
    }
   },
   "outputs": [
    {
     "name": "stdout",
     "output_type": "stream",
     "text": [
      "2\n"
     ]
    }
   ],
   "source": [
    "#solution\n",
    "students_marks = [16, 18, 17, 19, 20, 20, 15, 12, 9, 0]\n",
    "count = 0\n",
    "for mark in students_marks:\n",
    "    if mark == 20:\n",
    "        count = count + 1\n",
    "print(count)"
   ]
  },
  {
   "cell_type": "markdown",
   "metadata": {
    "slideshow": {
     "slide_type": "subslide"
    }
   },
   "source": [
    "<p>We do alot of search on a regualr basis, so it would be nice if we can do that programmatically.</p> "
   ]
  },
  {
   "cell_type": "markdown",
   "metadata": {
    "slideshow": {
     "slide_type": "subslide"
    }
   },
   "source": [
    "<p>Python offers the <code>in</code> operator, which allows us to search for an element in a tuple or a list:</p>"
   ]
  },
  {
   "cell_type": "code",
   "execution_count": 53,
   "metadata": {
    "slideshow": {
     "slide_type": "fragment"
    }
   },
   "outputs": [
    {
     "name": "stdout",
     "output_type": "stream",
     "text": [
      "So Sad!\n"
     ]
    }
   ],
   "source": [
    "#the in operator\n",
    "students_marks = [16, 18, 17, 19, 20, 20, 15, 12, 9, 0]\n",
    "\n",
    "anyBodyFailed = 0 in students_marks #anyBodyFailed has boolean value of True\n",
    "\n",
    "if anyBodyFailed:\n",
    "    print(\"So Sad!\")\n",
    "    "
   ]
  },
  {
   "cell_type": "markdown",
   "metadata": {
    "slideshow": {
     "slide_type": "subslide"
    }
   },
   "source": [
    "Let us use the in operator in more realistic way, in the next example we have a list of emails and another list that contains some emails that we want to search if they exist in the first list. \n"
   ]
  },
  {
   "cell_type": "code",
   "execution_count": 54,
   "metadata": {
    "slideshow": {
     "slide_type": "fragment"
    }
   },
   "outputs": [
    {
     "name": "stdout",
     "output_type": "stream",
     "text": [
      "sal@python.org Exist\n",
      "moh@python.org Does not Exist\n"
     ]
    }
   ],
   "source": [
    "emails = ['ahmad@python.org', 'ram@python.org', 'sal@python.org', 'raj@python.org', 'kamel@python.org', 'jon@python.org']\n",
    "search_for = ['sal@python.org', 'moh@python.org',]\n",
    "\n",
    "for email in search_for:\n",
    "    if email in emails:\n",
    "        print(email, \"Exist\")\n",
    "    else:\n",
    "        print(email, \"Does not Exist\") #code inside else is executed if condition is False\n"
   ]
  },
  {
   "cell_type": "markdown",
   "metadata": {
    "slideshow": {
     "slide_type": "subslide"
    }
   },
   "source": [
    "The <code>else</code> statement is used with <code>if</code> to execute some statement if condition does not hold:\n",
    "<p>\n",
    "    <code>\n",
    "        if condition:\n",
    "            #statement executed when codition hold\n",
    "        else:\n",
    "            #statement executed when codition does not hold\n",
    "    </code>\n",
    "</p>"
   ]
  },
  {
   "cell_type": "markdown",
   "metadata": {
    "slideshow": {
     "slide_type": "slide"
    }
   },
   "source": [
    "<h2>Functions</h2>\n",
    "\n",
    "In Mathematics we are used to write functions. The following are a few examples of simple function <b>definitions</b>:\n",
    "\n",
    "<p><code>f(x) = x<sup>2</sup></code></p>\n",
    "<p><code>g(x, y) = x<sup>2</sup> + y</code></p>\n",
    "<p><code>h(x<sub>1</sub>,x<sub>2</sub>,... x<sub>n</sub>) = (x<sub>1</sub> + x<sub>2</sub> +... x<sub>n</sub>)/n</code></p>"
   ]
  },
  {
   "cell_type": "markdown",
   "metadata": {
    "slideshow": {
     "slide_type": "subslide"
    }
   },
   "source": [
    "\n",
    "Functions allows us to think in a more abstract way. For instance we use (evaluate) a function with different parameters without thinking of its internal complexity.\n",
    "\n",
    "<p><code>f(5)</code></p>\n",
    "<p><code>f(10)</code></p>\n",
    "<p><code>g(5, 2)</code></p>\n",
    "\n",
    "Also we may compose functions in different ways:\n",
    "\n",
    "<p><code>g(f(5), 2)</code></p>\n",
    "<p><code>f(f(5))</code></p>\n",
    "\n",
    "\n",
    "\n",
    "Similar to Mathematics, programming languages (including Python) allow us to do that.\n"
   ]
  },
  {
   "cell_type": "code",
   "execution_count": 55,
   "metadata": {
    "slideshow": {
     "slide_type": "subslide"
    }
   },
   "outputs": [
    {
     "name": "stdout",
     "output_type": "stream",
     "text": [
      "12\n",
      "20\n",
      "21\n"
     ]
    }
   ],
   "source": [
    "#simple addition function similar to add(x,y) = x+y \n",
    "\n",
    "#def aka: define a function\n",
    "def add(x, y):\n",
    "    return x + y \n",
    "\n",
    "#call the function (like evaluation)\n",
    "\n",
    "print(add(5, 7))\n",
    "print(add(15, 5))\n",
    "\n",
    "print(add(add(15, 5), 1))\n",
    "\n",
    "#super easy right!"
   ]
  },
  {
   "cell_type": "markdown",
   "metadata": {
    "slideshow": {
     "slide_type": "subslide"
    }
   },
   "source": [
    "Let us rewrite our code that calculates the average into a function:"
   ]
  },
  {
   "cell_type": "code",
   "execution_count": 56,
   "metadata": {
    "slideshow": {
     "slide_type": "fragment"
    }
   },
   "outputs": [
    {
     "name": "stdout",
     "output_type": "stream",
     "text": [
      "35.1\n",
      "35.1\n"
     ]
    }
   ],
   "source": [
    "#the avg function assumes that items is of type list\n",
    "def avg(items):\n",
    "    total = 0\n",
    "    for item in items:\n",
    "        total = total + item\n",
    "    \n",
    "    result = total / len(items)\n",
    "    \n",
    "    return result\n",
    "\n",
    "#use the avg function \n",
    "ages = [12, 34,43,12,78,21,26,40, 68,17]\n",
    "print(avg(ages))\n",
    "\n",
    "#or pass the list directly\n",
    "print(avg([12, 34,43,12,78,21,26,40, 68,17]))\n",
    "\n",
    "#NOOTICE: how we avg function is rewritten in a generic way.\n",
    "#So it is not tightly relalated to student' marks or ages, instead it can work with any list of numbers "
   ]
  },
  {
   "cell_type": "markdown",
   "metadata": {
    "slideshow": {
     "slide_type": "subslide"
    }
   },
   "source": [
    "<p>Now try to rewrite the previous example as a function. The function should take as a first argument a list (e.g list of emails) and as a second argument a string (e.g email to search for). And the function should return a boolean (True or False) whether the string exists or not <b>in</b> the list:</p>\n",
    "\n",
    "<p>\n",
    "<code>\n",
    "emails = [...]\n",
    "search_for = [...]\n",
    "\n",
    "for email in search_for:\n",
    "    if email in emails:\n",
    "        print(email, \"Exist\")\n",
    "    else:\n",
    "        print(email, \"Does not Exist\")\n",
    "</code>\n",
    "</p>"
   ]
  },
  {
   "cell_type": "markdown",
   "metadata": {
    "slideshow": {
     "slide_type": "subslide"
    }
   },
   "source": [
    "Previously we used some built-in functions: <code>type, print, len</code>.There are much more built-in functions that we can <b>reuse</b>. "
   ]
  },
  {
   "cell_type": "markdown",
   "metadata": {},
   "source": [
    "Code reuse is a very important concept in programming, it allows you to focus on solving new problem without resolving already solved problems."
   ]
  }
 ],
 "metadata": {
  "kernelspec": {
   "display_name": "Python 3",
   "language": "python",
   "name": "python3"
  },
  "language_info": {
   "codemirror_mode": {
    "name": "ipython",
    "version": 3
   },
   "file_extension": ".py",
   "mimetype": "text/x-python",
   "name": "python",
   "nbconvert_exporter": "python",
   "pygments_lexer": "ipython3",
   "version": "3.6.8"
  }
 },
 "nbformat": 4,
 "nbformat_minor": 4
}

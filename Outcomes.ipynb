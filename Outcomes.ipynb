{
 "cells": [
  {
   "cell_type": "markdown",
   "metadata": {},
   "source": [
    "<h1>Course Outcomes:</h1>\n",
    "the Intended course Is meant to be inclusive, It also requires you to be self-learner. The main course outcomes are:\n",
    "\n",
    "<ul>\n",
    "    <li>Mastering Programming Concepts</li>\n",
    "    <li>Introduction to Web Programming using Flask</li>\n",
    "    <li>Introduction to data analysis and visualization</li>\n",
    "    <li>Brief introduction to Machine Learning</li>\n",
    "</ul>\n",
    "\n",
    "In addition to the above there will be some sessions about other complementry technologies and development tools such as, Git, Linux, User Interface...etc.  "
   ]
  },
  {
   "cell_type": "code",
   "execution_count": null,
   "metadata": {},
   "outputs": [],
   "source": []
  }
 ],
 "metadata": {
  "kernelspec": {
   "display_name": "Python 3",
   "language": "python",
   "name": "python3"
  },
  "language_info": {
   "codemirror_mode": {
    "name": "ipython",
    "version": 3
   },
   "file_extension": ".py",
   "mimetype": "text/x-python",
   "name": "python",
   "nbconvert_exporter": "python",
   "pygments_lexer": "ipython3",
   "version": "3.6.8"
  }
 },
 "nbformat": 4,
 "nbformat_minor": 4
}

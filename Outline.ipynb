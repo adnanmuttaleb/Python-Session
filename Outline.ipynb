{
 "cells": [
  {
   "cell_type": "markdown",
   "metadata": {},
   "source": [
    "<h1>Outline</h1>\n",
    "<ul>\n",
    "<li>What is Programming</li>\n",
    "<li>Model of Program\n",
    "    <ul>\n",
    "        <li>Input</li>\n",
    "        <li>Processing</li> \n",
    "        <li>Output</li>\n",
    "    </ul>\n",
    "</li>\n",
    "<li>Programming Languages</li>\n",
    "<li>What is Python</li>\n",
    "<li>Some Statistics about Python (Why Python)</li>\n",
    "<li>What I can do with Python? (With Examples)\n",
    "    <ul>\n",
    "        <li>Web Programming</li>\n",
    "        <li>Data Analysis</li>\n",
    "        <li>Data Visualization</li>\n",
    "        <li>Predictions </li>\n",
    "        <li>Scientific Computing</li>\n",
    "        <li>Data Scraping</li>\n",
    "        <li>Web Testing Automation</li>\n",
    "    </ul>\n",
    "</li>\n",
    "<li>In which cases, I should not use Python?</li> \n",
    "<li>Coding with Python (Exploring Syntax)</li>\n",
    "<li>Data Profiling example</li>\n",
    "<li>News Crawling</li>\n",
    "<li>Face Detection</li>\n",
    "</ul>"
   ]
  },
  {
   "cell_type": "code",
   "execution_count": null,
   "metadata": {},
   "outputs": [],
   "source": []
  }
 ],
 "metadata": {
  "kernelspec": {
   "display_name": "Python 3",
   "language": "python",
   "name": "python3"
  },
  "language_info": {
   "codemirror_mode": {
    "name": "ipython",
    "version": 3
   },
   "file_extension": ".py",
   "mimetype": "text/x-python",
   "name": "python",
   "nbconvert_exporter": "python",
   "pygments_lexer": "ipython3",
   "version": "3.6.8"
  }
 },
 "nbformat": 4,
 "nbformat_minor": 4
}

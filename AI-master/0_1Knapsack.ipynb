{
 "cells": [
  {
   "cell_type": "markdown",
   "metadata": {
    "colab_type": "text",
    "id": "H7hm1HiaBK8T"
   },
   "source": [
    "# Solving 0-1 Knapsack Problem Using DEAP Framewok\n",
    "\n",
    "\n",
    "[DEAP](https://deap.readthedocs.io/en/master/index.html) is a novel evolutionary computation framework for rapid prototyping and testing of ideas.\n",
    "\n",
    "In 0-1 Knapsack Problem we have a bag of capacity `C` and we have a set of items, each item has a corresponding weight and profit and we want to select a subset of items in way that maximize the total profit while not exceeding the total capacity of the bag `C`.\n"
   ]
  },
  {
   "cell_type": "code",
   "execution_count": 1,
   "metadata": {
    "colab": {
     "base_uri": "https://localhost:8080/",
     "height": 53
    },
    "colab_type": "code",
    "id": "Gnm2P_JG_JxG",
    "outputId": "47848c1c-4d0e-43c7-ce03-94181861bab9"
   },
   "outputs": [
    {
     "name": "stdout",
     "output_type": "stream",
     "text": [
      "Requirement already satisfied: deap in /var/www/session/venv/lib/python3.6/site-packages (1.3.0)\n",
      "Requirement already satisfied: numpy in /var/www/session/venv/lib/python3.6/site-packages (from deap) (1.17.4)\n"
     ]
    }
   ],
   "source": [
    "!pip install deap\n",
    "%matplotlib inline"
   ]
  },
  {
   "cell_type": "markdown",
   "metadata": {
    "colab_type": "text",
    "id": "7L3pBCTSBJka"
   },
   "source": [
    "first we import the required libraries."
   ]
  },
  {
   "cell_type": "code",
   "execution_count": 2,
   "metadata": {
    "colab": {},
    "colab_type": "code",
    "id": "N4RNKc6O_B9b"
   },
   "outputs": [],
   "source": [
    "from deap import creator, base, tools, algorithms\n",
    "import matplotlib\n",
    "import matplotlib.pyplot as plt\n",
    "import pandas as pd\n",
    "import numpy as np\n"
   ]
  },
  {
   "cell_type": "markdown",
   "metadata": {
    "colab_type": "text",
    "id": "iW9Vs6eCCqg8"
   },
   "source": [
    "we load the dataset we are using the 8th dataset (can be found [here](http://people.sc.fsu.edu/~jburkardt%20/datasets/knapsack_01/knapsack_01.html)) of 24 item and total bag capacity 6404180.*italicized text*"
   ]
  },
  {
   "cell_type": "code",
   "execution_count": 3,
   "metadata": {
    "colab": {},
    "colab_type": "code",
    "id": "CfV5AmJNIwVj"
   },
   "outputs": [],
   "source": [
    "C = 6404180\n",
    "S = 24\n",
    "MAX_PROFIT = 13549094\n",
    "OPTIMAL_SOLUTION = [1,1,0,1,1,1,0,0,0,1,1,0,1,0,0,1,0,0,0,0,0,1,1,1,]\n",
    "WEIGHTS = pd.read_csv('http://people.sc.fsu.edu/~jburkardt%20/datasets/knapsack_01/p08_w.txt', sep='\\n', header=None)[0]\n",
    "PROFITS = pd.read_csv('http://people.sc.fsu.edu/~jburkardt%20/datasets/knapsack_01/p08_p.txt', sep='\\n', header=None)[0]\n"
   ]
  },
  {
   "cell_type": "markdown",
   "metadata": {
    "colab_type": "text",
    "id": "hAnKkMOXDIK9"
   },
   "source": [
    "2. create two types using the `create` method of DEAP, this method takes three paramaters: the first one is the name of the new type, the second one is the base class of the new type and the remaining ones are any additional properties that are specific to the new type. The `FitnessMax`  type inherent from the class `base.Fitness` and has one requiered property `weight`, which is a tuple that determine whether we are maximizing (+1.0) or minimizing (-1.0) some objectives."
   ]
  },
  {
   "cell_type": "code",
   "execution_count": 4,
   "metadata": {
    "colab": {
     "base_uri": "https://localhost:8080/",
     "height": 108
    },
    "colab_type": "code",
    "id": "8nDY-7CfC0rA",
    "outputId": "7ea38476-8637-4304-8cf1-162a024dc842"
   },
   "outputs": [],
   "source": [
    "creator.create('FitnessMax', base.Fitness, weights=(1.0,))\n",
    "creator.create('Individual', list, fitness=creator.FitnessMax)"
   ]
  },
  {
   "cell_type": "markdown",
   "metadata": {
    "colab_type": "text",
    "id": "yBgs4X06Rkfd"
   },
   "source": [
    "The `Toolbox` is a tool that allow you to create an aliases for some function while providing values for some of its parameters. "
   ]
  },
  {
   "cell_type": "code",
   "execution_count": 5,
   "metadata": {
    "colab": {},
    "colab_type": "code",
    "id": "32D64uIdEHqt"
   },
   "outputs": [],
   "source": [
    "toolbox = base.Toolbox()"
   ]
  },
  {
   "cell_type": "markdown",
   "metadata": {
    "colab_type": "text",
    "id": "NKq08S28SAmD"
   },
   "source": [
    "We represent each individual here as string of 0 or 1. all strings (individuals) have a length equal to the number of candidate items. Each ith gene (index in the string) is either equal to 1 which mean we are selecting that ith item and 0 mean we are not."
   ]
  },
  {
   "cell_type": "code",
   "execution_count": 6,
   "metadata": {
    "colab": {},
    "colab_type": "code",
    "id": "-qb6g1uOEJgb"
   },
   "outputs": [],
   "source": [
    "toolbox.register('pick', np.random.choice, (True,False))\n",
    "toolbox.register('individual', tools.initRepeat, creator.Individual, toolbox.pick, S)\n",
    "toolbox.register('population', tools.initRepeat, list, toolbox.individual)\n",
    "\n"
   ]
  },
  {
   "cell_type": "markdown",
   "metadata": {
    "colab_type": "text",
    "id": "2vtG2iJFTSpB"
   },
   "source": [
    "Below we define our objective function which we are trying to maximize. The objective function which return the total profit of some individual. As our operators are random we may create an invalid indivduals, in this case this function should return constant value of 0 which specify the minimum profit."
   ]
  },
  {
   "cell_type": "code",
   "execution_count": 7,
   "metadata": {
    "colab": {},
    "colab_type": "code",
    "id": "6Lm__UQfNZnt"
   },
   "outputs": [],
   "source": [
    "def evaluate(indv):\n",
    "  total_profit = 0\n",
    "  total_weight = 0 \n",
    "  for i,g in enumerate(indv):\n",
    "    if g:\n",
    "      total_weight += WEIGHTS[i]\n",
    "      total_profit +=  PROFITS[i]\n",
    "      \n",
    "  if total_weight <= C:\n",
    "    return total_profit,\n",
    "  else:\n",
    "    return 0,"
   ]
  },
  {
   "cell_type": "markdown",
   "metadata": {
    "colab_type": "text",
    "id": "1_t8W8-DTl0X"
   },
   "source": [
    "Here we register our evaluation function and the other genetic operators: Crossover (`mate`), Mutation (`mutate`), Natural-Selection (`select`). There are multiple options for each type of operators that can be found in the docs."
   ]
  },
  {
   "cell_type": "code",
   "execution_count": 8,
   "metadata": {
    "colab": {},
    "colab_type": "code",
    "id": "sAXRpZEgAMr8"
   },
   "outputs": [],
   "source": [
    "toolbox.register('evaluate', evaluate)\n",
    "toolbox.register('mate', tools.cxOnePoint)\n",
    "toolbox.register('mutate', tools.mutFlipBit, indpb=0.3)\n",
    "toolbox.register('select', tools.selNSGA2)"
   ]
  },
  {
   "cell_type": "markdown",
   "metadata": {
    "colab_type": "text",
    "id": "B7uGq-NQT5dX"
   },
   "source": [
    "We use the `eaMuPlusLambda` to evolve the solution set `pop`. you can read more about this algrorithm on DEAP docs."
   ]
  },
  {
   "cell_type": "code",
   "execution_count": 9,
   "metadata": {
    "colab": {
     "base_uri": "https://localhost:8080/",
     "height": 1839
    },
    "colab_type": "code",
    "id": "S8d3DIBiEUh6",
    "outputId": "be0ebba3-33d4-4f0f-90fd-641c69948eef"
   },
   "outputs": [],
   "source": [
    "pop = toolbox.population(n=100)\n",
    "stats = tools.Statistics(lambda indv: indv.fitness.values)\n",
    "stats.register('avg', np.mean, axis=0)\n",
    "stats.register('std', np.std, axis=0)\n",
    "stats.register('max', np.max, axis=0)\n",
    "stats.register('min', np.min, axis=0)\n",
    "\n",
    "history = algorithms.eaMuPlusLambda(pop, toolbox, mu=len(pop), lambda_=len(pop)*2, cxpb=0.5, mutpb=0.4, ngen=100, stats=stats, verbose=False)"
   ]
  },
  {
   "cell_type": "code",
   "execution_count": 10,
   "metadata": {
    "colab": {},
    "colab_type": "code",
    "id": "rCGDuHZg5k-A"
   },
   "outputs": [],
   "source": [
    "evolution = pd.DataFrame(history[1])"
   ]
  },
  {
   "cell_type": "code",
   "execution_count": 11,
   "metadata": {
    "colab": {},
    "colab_type": "code",
    "id": "Fedk6PzH8prk"
   },
   "outputs": [],
   "source": [
    "optimal_pop = pd.DataFrame(history[0], index=None)"
   ]
  },
  {
   "cell_type": "markdown",
   "metadata": {
    "colab_type": "text",
    "id": "Z-B-1mtMEHov"
   },
   "source": [
    "Below we plot the the mean value of fitness during each generation."
   ]
  },
  {
   "cell_type": "code",
   "execution_count": 12,
   "metadata": {
    "colab": {
     "base_uri": "https://localhost:8080/",
     "height": 295
    },
    "colab_type": "code",
    "id": "g0QCrrpWmVvp",
    "outputId": "7b5ef18d-50ac-49f2-d57a-0a093979c940"
   },
   "outputs": [
    {
     "data": {
      "image/png": "[encoded data removed]",
      "text/plain": [
       "<Figure size 432x288 with 1 Axes>"
      ]
     },
     "metadata": {
      "needs_background": "light"
     },
     "output_type": "display_data"
    }
   ],
   "source": [
    "fig = plt.figure()\n",
    "ax  = fig.add_subplot(111)\n",
    "ax.plot(evolution['gen'], evolution['avg'])\n",
    "ax.set_title('Evolution against Time')\n",
    "ax.set_ylabel('Avg. Fitness')\n",
    "ax.set_xlabel('Generation')\n",
    "plt.show()"
   ]
  },
  {
   "cell_type": "code",
   "execution_count": 13,
   "metadata": {
    "colab": {},
    "colab_type": "code",
    "id": "AY4D_e1HQA2B"
   },
   "outputs": [],
   "source": [
    "plt.close('all')"
   ]
  },
  {
   "cell_type": "markdown",
   "metadata": {
    "colab_type": "text",
    "id": "UI417muCUPol"
   },
   "source": [
    "In the below figure we plot how often each item is selected as part of the solution set, we can se that almost all solutions in the final population are equal we name that Full Convergence."
   ]
  },
  {
   "cell_type": "code",
   "execution_count": 14,
   "metadata": {
    "colab": {
     "base_uri": "https://localhost:8080/",
     "height": 295
    },
    "colab_type": "code",
    "id": "bRsjZ2re-D2f",
    "outputId": "d20fbc93-d62c-4a21-fb4c-0fec1a3a369f"
   },
   "outputs": [
    {
     "data": {
      "image/png": "[encoded data removed]",
      "text/plain": [
       "<Figure size 432x288 with 1 Axes>"
      ]
     },
     "metadata": {
      "needs_background": "light"
     },
     "output_type": "display_data"
    }
   ],
   "source": [
    "solutions_features = optimal_pop.sum(axis=0)\n",
    "fig = plt.figure()\n",
    "ax  = fig.add_subplot(111)\n",
    "ax.bar(solutions_features.index, solutions_features)\n",
    "ax.set_title('Optimal Solution Space')\n",
    "ax.set_ylabel('Occurances')\n",
    "ax.set_xlabel('Item')\n",
    "ax.set_xticks(solutions_features.index)\n",
    "plt.show()"
   ]
  },
  {
   "cell_type": "markdown",
   "metadata": {
    "colab_type": "text",
    "id": "jA3VKtc7UrOL"
   },
   "source": [
    "Know we repeat our experiment  but with two objectives instead of one this time: **Maximizing** profit, while **Minimizing** weight. "
   ]
  },
  {
   "cell_type": "code",
   "execution_count": 15,
   "metadata": {
    "colab": {
     "base_uri": "https://localhost:8080/",
     "height": 108
    },
    "colab_type": "code",
    "id": "KKlXu0AgRbQI",
    "outputId": "0e37dafd-101c-4e40-ab6b-2e0e0e91713b"
   },
   "outputs": [
    {
     "name": "stderr",
     "output_type": "stream",
     "text": [
      "/var/www/session/venv/lib/python3.6/site-packages/deap/creator.py:141: RuntimeWarning: A class named 'FitnessMax' has already been created and it will be overwritten. Consider deleting previous creation of that class or rename it.\n",
      "  RuntimeWarning)\n",
      "/var/www/session/venv/lib/python3.6/site-packages/deap/creator.py:141: RuntimeWarning: A class named 'Individual' has already been created and it will be overwritten. Consider deleting previous creation of that class or rename it.\n",
      "  RuntimeWarning)\n"
     ]
    }
   ],
   "source": [
    "creator.create('FitnessMax', base.Fitness, weights=(1.0, -1.0))\n",
    "creator.create('Individual', list, fitness=creator.FitnessMax)\n",
    "\n",
    "toolbox.register('individual', tools.initRepeat, creator.Individual, toolbox.pick, S)\n",
    "toolbox.register('population', tools.initRepeat, list, toolbox.individual)\n"
   ]
  },
  {
   "cell_type": "code",
   "execution_count": 16,
   "metadata": {
    "colab": {},
    "colab_type": "code",
    "id": "3UuloZTWUJjK"
   },
   "outputs": [],
   "source": [
    "def evaluate_multi_objective(indv):\n",
    "  total_profit = 0\n",
    "  total_weight = 0 \n",
    "  for i,g in enumerate(indv):\n",
    "    if g:\n",
    "      total_weight += WEIGHTS[i]\n",
    "      total_profit +=  PROFITS[i]\n",
    "      \n",
    "  if total_weight <= C:\n",
    "    return (total_profit, total_weight)\n",
    "  else:\n",
    "    return (0, C)"
   ]
  },
  {
   "cell_type": "code",
   "execution_count": 17,
   "metadata": {
    "colab": {},
    "colab_type": "code",
    "id": "kVUriBZ1V3FK"
   },
   "outputs": [],
   "source": [
    "toolbox.register('evaluate', evaluate_multi_objective)"
   ]
  },
  {
   "cell_type": "code",
   "execution_count": 18,
   "metadata": {
    "colab": {
     "base_uri": "https://localhost:8080/",
     "height": 7199
    },
    "colab_type": "code",
    "id": "CUOuUNVuUM_a",
    "outputId": "23a73cbe-d393-4896-e74b-3ca6b6c3caa4"
   },
   "outputs": [],
   "source": [
    "pop = toolbox.population(n=100)\n",
    "stats = tools.Statistics(lambda indv: indv.fitness.values)\n",
    "stats.register('avg', np.mean, axis=0)\n",
    "stats.register('std', np.std, axis=0)\n",
    "stats.register('max', np.max, axis=0)\n",
    "stats.register('min', np.min, axis=0)\n",
    "\n",
    "history = algorithms.eaMuPlusLambda(pop, toolbox, mu=len(pop), lambda_=len(pop)*2, cxpb=0.5, mutpb=0.4, ngen=400, stats=stats, verbose=False)"
   ]
  },
  {
   "cell_type": "code",
   "execution_count": 19,
   "metadata": {
    "colab": {},
    "colab_type": "code",
    "id": "UfdAd6A7UU-X"
   },
   "outputs": [],
   "source": [
    "evolution = pd.DataFrame(history[1])"
   ]
  },
  {
   "cell_type": "code",
   "execution_count": 20,
   "metadata": {
    "colab": {},
    "colab_type": "code",
    "id": "6mXp93nsUoLe"
   },
   "outputs": [],
   "source": [
    "optimal_pop = pd.DataFrame(history[0], index=None)"
   ]
  },
  {
   "cell_type": "code",
   "execution_count": 21,
   "metadata": {
    "colab": {},
    "colab_type": "code",
    "id": "jJ0RtH87Ybxy"
   },
   "outputs": [],
   "source": [
    "plt.close()"
   ]
  },
  {
   "cell_type": "code",
   "execution_count": 22,
   "metadata": {
    "colab": {
     "base_uri": "https://localhost:8080/",
     "height": 295
    },
    "colab_type": "code",
    "id": "rW1lKzX3Yfmp",
    "outputId": "c4422e64-fe61-4766-f166-34bd5a00b6c5"
   },
   "outputs": [
    {
     "data": {
      "image/png": "[encoded data removed]",
      "text/plain": [
       "<Figure size 432x288 with 1 Axes>"
      ]
     },
     "metadata": {
      "needs_background": "light"
     },
     "output_type": "display_data"
    }
   ],
   "source": [
    "fig = plt.figure()\n",
    "ax  = fig.add_subplot(111)\n",
    "ax.plot(evolution['gen'], [fit[0] for fit in evolution['avg']], label='Profit')\n",
    "ax.plot(evolution['gen'], [fit[1] for fit in evolution['avg']], label='Weight')\n",
    "ax.set_title('Evolution against Time')\n",
    "ax.set_ylabel('Avg. Fitness')\n",
    "ax.set_xlabel('Generation')\n",
    "ax.legend()\n",
    "plt.show()"
   ]
  },
  {
   "cell_type": "code",
   "execution_count": 23,
   "metadata": {
    "colab": {},
    "colab_type": "code",
    "id": "EA6s3BlJY2gF"
   },
   "outputs": [],
   "source": [
    "plt.close()"
   ]
  },
  {
   "cell_type": "code",
   "execution_count": 24,
   "metadata": {
    "colab": {
     "base_uri": "https://localhost:8080/",
     "height": 295
    },
    "colab_type": "code",
    "id": "4sk2poo0acTJ",
    "outputId": "81323a0b-ecfa-44a6-974c-d6c83cd4324c"
   },
   "outputs": [
    {
     "data": {
      "image/png": "[encoded data removed]",
      "text/plain": [
       "<Figure size 432x288 with 1 Axes>"
      ]
     },
     "metadata": {
      "needs_background": "light"
     },
     "output_type": "display_data"
    }
   ],
   "source": [
    "solutions_features = optimal_pop.sum(axis=0)\n",
    "fig = plt.figure()\n",
    "ax  = fig.add_subplot(111)\n",
    "ax.bar(solutions_features.index, solutions_features)\n",
    "ax.set_title('Optimal Solution Space')\n",
    "ax.set_ylabel('Occurances')\n",
    "ax.set_xlabel('Item')\n",
    "ax.set_xticks(solutions_features.index)\n",
    "plt.show()"
   ]
  },
  {
   "cell_type": "code",
   "execution_count": null,
   "metadata": {
    "colab": {},
    "colab_type": "code",
    "id": "reLdQdKAacsO"
   },
   "outputs": [],
   "source": []
  }
 ],
 "metadata": {
  "colab": {
   "collapsed_sections": [],
   "name": "0-1Knapsack.ipynb",
   "provenance": [],
   "version": "0.3.2"
  },
  "kernelspec": {
   "display_name": "Python 3",
   "language": "python",
   "name": "python3"
  },
  "language_info": {
   "codemirror_mode": {
    "name": "ipython",
    "version": 3
   },
   "file_extension": ".py",
   "mimetype": "text/x-python",
   "name": "python",
   "nbconvert_exporter": "python",
   "pygments_lexer": "ipython3",
   "version": "3.6.8"
  }
 },
 "nbformat": 4,
 "nbformat_minor": 4
}

{
 "cells": [
  {
   "cell_type": "code",
   "execution_count": null,
   "metadata": {
    "colab": {
     "base_uri": "https://localhost:8080/",
     "height": 53
    },
    "colab_type": "code",
    "id": "v2iCakR6sGyl",
    "outputId": "917e4ea0-0416-4117-f5dc-c12b59eb21a1"
   },
   "outputs": [
    {
     "name": "stdout",
     "output_type": "stream",
     "text": [
      "Requirement already satisfied: deap in /var/www/session/venv/lib/python3.6/site-packages (1.3.0)\r\n",
      "Requirement already satisfied: numpy in /var/www/session/venv/lib/python3.6/site-packages (from deap) (1.17.4)\r\n"
     ]
    }
   ],
   "source": [
    "!pip install deap\n",
    "!pip install sklearn\n",
    "!pip install xlrd\n",
    "%matplotlib notebook"
   ]
  },
  {
   "cell_type": "markdown",
   "metadata": {
    "colab_type": "text",
    "id": "csT38wwVitna"
   },
   "source": [
    "In this tutorial we will use DEAP's Genetic Programming module to build a model that predict the price per area using the[ 'Real estate valuation data set'](https://archive.ics.uci.edu/ml/datasets/Real+estate+valuation+data+set)."
   ]
  },
  {
   "cell_type": "code",
   "execution_count": null,
   "metadata": {
    "colab": {
     "base_uri": "https://localhost:8080/",
     "height": 88
    },
    "colab_type": "code",
    "id": "IntxNRKUsJVv",
    "outputId": "21e0d84a-d60f-4314-f19d-1c3c12cd9de8"
   },
   "outputs": [],
   "source": [
    "%matplotlib inline\n",
    "%pylab inline\n",
    "\n",
    "import numpy as np \n",
    "import random\n",
    "import operator\n",
    "import pandas as pd\n",
    "from deap import gp, base, tools, algorithms, creator\n",
    "import pandas_profiling\n",
    "from sklearn.model_selection import train_test_split\n",
    "import matplotlib\n",
    "import matplotlib.pyplot as plt\n"
   ]
  },
  {
   "cell_type": "markdown",
   "metadata": {
    "colab_type": "text",
    "id": "tkJZB81xjQfh"
   },
   "source": [
    "Above we import the required libraries."
   ]
  },
  {
   "cell_type": "code",
   "execution_count": null,
   "metadata": {
    "colab": {},
    "colab_type": "code",
    "id": "9w7n8kzhsRwu"
   },
   "outputs": [],
   "source": [
    "dataset = pd.read_excel('https://archive.ics.uci.edu/ml/machine-learning-databases/00477/Real%20estate%20valuation%20data%20set.xlsx')"
   ]
  },
  {
   "cell_type": "code",
   "execution_count": null,
   "metadata": {
    "colab": {
     "base_uri": "https://localhost:8080/",
     "height": 18665
    },
    "colab_type": "code",
    "id": "Xt58X1O8qoJU",
    "outputId": "9282cbd7-8b17-4005-a977-4191b95be02b"
   },
   "outputs": [],
   "source": [
    "pandas_profiling.ProfileReport(dataset)"
   ]
  },
  {
   "cell_type": "markdown",
   "metadata": {
    "colab_type": "text",
    "id": "fw0pvt2Fjf8T"
   },
   "source": [
    "The above report is built using[ Pandas Profiling library](https://github.com/pandas-profiling/pandas-profiling). This is very usefull to build basic intuiation about the dataset, also it allow you to decide what cleaning operations are required, also it shows the correlation between the different  attributes."
   ]
  },
  {
   "cell_type": "code",
   "execution_count": null,
   "metadata": {
    "colab": {},
    "colab_type": "code",
    "id": "_khtNprD0vod"
   },
   "outputs": [],
   "source": [
    "dataset.drop(['No'], axis=1, inplace=True)"
   ]
  },
  {
   "cell_type": "markdown",
   "metadata": {
    "colab_type": "text",
    "id": "PYNFWBt1kTM3"
   },
   "source": [
    "We will only drop the `No` column because it is not necessary, you may also want to reformate the `transaction date` but we will keep it as it is in this tutorial . "
   ]
  },
  {
   "cell_type": "code",
   "execution_count": null,
   "metadata": {
    "colab": {
     "base_uri": "https://localhost:8080/",
     "height": 2009
    },
    "colab_type": "code",
    "id": "EZ2BKbe-IQtp",
    "outputId": "14987b64-4626-4d2a-e2f9-1fc67b918cf4"
   },
   "outputs": [],
   "source": [
    "dataset"
   ]
  },
  {
   "cell_type": "code",
   "execution_count": null,
   "metadata": {
    "colab": {},
    "colab_type": "code",
    "id": "ALZAmI45JiEL"
   },
   "outputs": [],
   "source": [
    "X, Y = dataset.drop(['Y house price of unit area'], axis=1).values, dataset['Y house price of unit area'].values\n",
    "x_train, x_test, y_train, y_test = train_test_split(X, Y, test_size=1/3, random_state=42) "
   ]
  },
  {
   "cell_type": "markdown",
   "metadata": {
    "colab_type": "text",
    "id": "689_jcuwkz0B"
   },
   "source": [
    "We split the dataset into 2/3 sample for training and 1/3 sample for testing using sklearn's function `train_test_split`. "
   ]
  },
  {
   "cell_type": "code",
   "execution_count": null,
   "metadata": {
    "colab": {},
    "colab_type": "code",
    "id": "Gel2YSuqJo7M"
   },
   "outputs": [],
   "source": [
    "pset = gp.PrimitiveSetTyped('main', [float]*6, float)"
   ]
  },
  {
   "cell_type": "markdown",
   "metadata": {
    "colab_type": "text",
    "id": "NsdsYGGxlGUF"
   },
   "source": [
    "We will use Strongly Typed GP to represent the solution space, each individual has 6 arguments and one output (the price per unit area)."
   ]
  },
  {
   "cell_type": "code",
   "execution_count": null,
   "metadata": {
    "colab": {},
    "colab_type": "code",
    "id": "AaezBt2FCFDm"
   },
   "outputs": [],
   "source": [
    "def if_then_else(cond, val1, val2):\n",
    "  return val1 if cond else val2\n",
    "\n",
    "def greater_than(val1, val2):\n",
    "  return True if val1 > val2 else False\n",
    "\n",
    "def protected_div(x, y):\n",
    "  if y == 0:\n",
    "    return 1.0\n",
    "  return x/y \n",
    "\n",
    "pset.addPrimitive(operator.add, [float, float], float)\n",
    "pset.addPrimitive(operator.sub, [float, float], float,)\n",
    "pset.addPrimitive(operator.mul, [float, float], float,)\n",
    "pset.addPrimitive(protected_div, [float, float], float,)\n",
    "pset.addPrimitive(operator.neg, [float], float,)\n",
    "pset.addPrimitive(if_then_else, [bool, float, float], float,)\n",
    "pset.addPrimitive(greater_than, [float, float], bool,)\n",
    "pset.addEphemeralConstant('rand', lambda: np.random.uniform(), float)\n",
    "pset.addTerminal(1, bool)\n",
    "pset.addTerminal(0, bool)"
   ]
  },
  {
   "cell_type": "markdown",
   "metadata": {
    "colab_type": "text",
    "id": "z03Gwo3DldDe"
   },
   "source": [
    "We are using basic arthmatic operations in addition we use one logical operation `greater_than` and one control primitive `if_then_else`. Also we use one random `rand` (Ephemeral Constant) and two bool terminals that represent `True` and `False`."
   ]
  },
  {
   "cell_type": "code",
   "execution_count": null,
   "metadata": {
    "colab": {},
    "colab_type": "code",
    "id": "pyNhS7Y-Ey4R"
   },
   "outputs": [],
   "source": [
    "creator.create('Fitness', base.Fitness, weights=(-1,))\n",
    "creator.create('Individual', gp.PrimitiveTree, fitness=creator.Fitness, pset=pset)"
   ]
  },
  {
   "cell_type": "markdown",
   "metadata": {
    "colab_type": "text",
    "id": "MDuORePCmJIL"
   },
   "source": [
    "Here we create the types. our objective function is to minimize the [Mean squared error](https://en.wikipedia.org/wiki/Mean_squared_error)."
   ]
  },
  {
   "cell_type": "code",
   "execution_count": null,
   "metadata": {
    "colab": {},
    "colab_type": "code",
    "id": "xlxuOciDJwh7"
   },
   "outputs": [],
   "source": [
    "toolbox = base.Toolbox()"
   ]
  },
  {
   "cell_type": "code",
   "execution_count": null,
   "metadata": {
    "colab": {},
    "colab_type": "code",
    "id": "qc2p5S4PJ6BM"
   },
   "outputs": [],
   "source": [
    "toolbox.register('expr', gp.genFull, pset, min_=1, max_=8)\n",
    "toolbox.register('individual', tools.initIterate, creator.Individual, toolbox.expr)\n",
    "toolbox.register('population', tools.initRepeat, list, toolbox.individual)\n",
    "toolbox.register('compile', gp.compile, pset=pset)"
   ]
  },
  {
   "cell_type": "markdown",
   "metadata": {
    "colab_type": "text",
    "id": "hG5ipIdamd2h"
   },
   "source": [
    "The `compile` function is part of DEAP's `gp` module and it transforms an individual (`PrimitiveTree`) into an execuatable expression. "
   ]
  },
  {
   "cell_type": "code",
   "execution_count": null,
   "metadata": {
    "colab": {},
    "colab_type": "code",
    "id": "bothX_WcUXI_"
   },
   "outputs": [],
   "source": [
    "\n",
    "def evaluate(indiv, x, y):\n",
    "  func = toolbox.compile(expr=indiv)\n",
    "  sqerrors = [(func(*sample) - label)**2 for sample,label in zip(x, y)]\n",
    "  return np.sum(sqerrors)/len(x),\n",
    "  "
   ]
  },
  {
   "cell_type": "code",
   "execution_count": null,
   "metadata": {
    "colab": {},
    "colab_type": "code",
    "id": "X6POMj3msk3Z"
   },
   "outputs": [],
   "source": [
    "toolbox.register('evaluate', evaluate, x=x_train, y=y_train)\n",
    "toolbox.register(\"select\", tools.selTournament, tournsize=3)\n",
    "toolbox.register(\"mate\", gp.cxOnePoint)\n",
    "toolbox.register(\"expr_mut\", gp.genFull, min_=0, max_=2)\n",
    "toolbox.register(\"mutate\", gp.mutUniform, expr=toolbox.expr_mut, pset=pset)"
   ]
  },
  {
   "cell_type": "markdown",
   "metadata": {
    "colab_type": "text",
    "id": "T5cyc8I_nFjt"
   },
   "source": [
    "We use Tournament Selection, and One-point Crossover and Uniform Mutation, by uniform we mean that all nodes in one individual have the same probability to be mutated."
   ]
  },
  {
   "cell_type": "code",
   "execution_count": null,
   "metadata": {
    "colab": {},
    "colab_type": "code",
    "id": "yk5qvkFCuINr"
   },
   "outputs": [],
   "source": [
    "toolbox.decorate(\"mate\", gp.staticLimit(key=operator.attrgetter(\"height\"), max_value=10))"
   ]
  },
  {
   "cell_type": "code",
   "execution_count": null,
   "metadata": {
    "colab": {},
    "colab_type": "code",
    "id": "_5K3s4c5uaFv"
   },
   "outputs": [],
   "source": [
    "toolbox.decorate(\"mutate\", gp.staticLimit(key=operator.attrgetter(\"height\"), max_value=10))"
   ]
  },
  {
   "cell_type": "markdown",
   "metadata": {
    "colab_type": "text",
    "id": "ZROlEyOtnhtW"
   },
   "source": [
    "The above two statements are used to constrain the `mutate` and the `mate` operation from creating individuals with height greater than 10. this is used to prevent the Bloat Problem from happening."
   ]
  },
  {
   "cell_type": "code",
   "execution_count": null,
   "metadata": {
    "colab": {},
    "colab_type": "code",
    "id": "a8CA9NfFunUG"
   },
   "outputs": [],
   "source": [
    "stats = tools.Statistics(lambda individual: (individual.fitness.values[0], individual.height))\n",
    "stats.register('avg', np.mean, axis=0)\n",
    "stats.register('std', np.std, axis=0)\n",
    "stats.register('max', np.max, axis=0)\n",
    "stats.register('min', np.min, axis=0)"
   ]
  },
  {
   "cell_type": "markdown",
   "metadata": {
    "colab_type": "text",
    "id": "BcAIEzojoCy5"
   },
   "source": [
    "We will use a population of size 50 and  'crossover' and 'mutation' with probability of 0.6 and 0.4 respectivlly, and we will evolve the population for 500 generations. One should tune these paramaters carfully to prevent premature convergence and overfitting from happening. "
   ]
  },
  {
   "cell_type": "code",
   "execution_count": null,
   "metadata": {
    "colab": {
     "base_uri": "https://localhost:8080/",
     "height": 7199
    },
    "colab_type": "code",
    "id": "Ybg_BrDSvmf5",
    "outputId": "b35b387c-b883-4ca4-a9f8-63d400dace31"
   },
   "outputs": [],
   "source": [
    "\n",
    "pop = toolbox.population(n=50)\n",
    "hof = tools.HallOfFame(1)\n",
    "pop, log = algorithms.eaSimple(pop, toolbox, cxpb=0.6, mutpb=0.4, ngen=400, stats=stats, halloffame=hof, verbose=False)"
   ]
  },
  {
   "cell_type": "code",
   "execution_count": null,
   "metadata": {
    "colab": {
     "base_uri": "https://localhost:8080/",
     "height": 73
    },
    "colab_type": "code",
    "id": "I5OcCP-_AELk",
    "outputId": "4ac16096-aa52-40b9-9588-7bd754255f61"
   },
   "outputs": [],
   "source": [
    "print('Best individual', str(hof[0]))\n",
    "print('Best individual Fitness: ', str(hof[0].fitness))"
   ]
  },
  {
   "cell_type": "code",
   "execution_count": null,
   "metadata": {
    "colab": {
     "base_uri": "https://localhost:8080/",
     "height": 35
    },
    "colab_type": "code",
    "id": "C5PXWrl4qSfz",
    "outputId": "1e259375-cb39-462f-e6b2-b410a4b60212"
   },
   "outputs": [],
   "source": [
    "print('MSE of best individual on the test set: ', str(evaluate(hof[0], x_test, y_test)))"
   ]
  },
  {
   "cell_type": "code",
   "execution_count": null,
   "metadata": {
    "colab": {},
    "colab_type": "code",
    "id": "P7hOl22IzeIn"
   },
   "outputs": [],
   "source": [
    "stats_df = pd.DataFrame(log)"
   ]
  },
  {
   "cell_type": "markdown",
   "metadata": {
    "colab_type": "text",
    "id": "Yz2TnON2BGaD"
   },
   "source": [
    "We transform our `log` object to `DataFrame` for ease, then we create multiple charts that illustrate the performance and the shape of the population during the evolution process."
   ]
  },
  {
   "cell_type": "code",
   "execution_count": null,
   "metadata": {
    "colab": {
     "base_uri": "https://localhost:8080/",
     "height": 624
    },
    "colab_type": "code",
    "id": "uMqJOWtlnz_L",
    "outputId": "0f9f43ec-db2c-4181-ef7d-eba2ac9690d4"
   },
   "outputs": [],
   "source": [
    "fig = plt.figure(figsize=(10, 10))\n",
    "ax = fig.add_subplot(111)\n",
    "ax.plot(stats_df['gen'], [x[0] for x in stats_df['avg']], label='avg')\n",
    "ax.set_title('Avg Fitness during run')\n",
    "ax.set_xlabel('Generations')\n",
    "ax.set_ylabel('Fitness')\n",
    "ax.legend()\n",
    "plt.show()"
   ]
  },
  {
   "cell_type": "code",
   "execution_count": null,
   "metadata": {
    "colab": {},
    "colab_type": "code",
    "id": "aR_WlafCTpdG"
   },
   "outputs": [],
   "source": [
    "plt.close()"
   ]
  },
  {
   "cell_type": "code",
   "execution_count": null,
   "metadata": {
    "colab": {
     "base_uri": "https://localhost:8080/",
     "height": 298
    },
    "colab_type": "code",
    "id": "EaHmq7SG430S",
    "outputId": "76bccc22-9f32-40c5-d93c-930d96cac52d"
   },
   "outputs": [],
   "source": [
    "fig = plt.figure()\n",
    "ax = fig.add_subplot(111)\n",
    "ax.plot(stats_df['gen'], [x[0] for x in stats_df['min']], label='min')\n",
    "ax.set_title('Min Fitness during run')\n",
    "ax.set_xlabel('Generations')\n",
    "ax.set_ylabel('Fitness')\n",
    "ax.legend()\n",
    "plt.show()"
   ]
  },
  {
   "cell_type": "code",
   "execution_count": null,
   "metadata": {
    "colab": {},
    "colab_type": "code",
    "id": "7JJ5OEV_6nEW"
   },
   "outputs": [],
   "source": [
    "plt.close()"
   ]
  },
  {
   "cell_type": "code",
   "execution_count": null,
   "metadata": {
    "colab": {
     "base_uri": "https://localhost:8080/",
     "height": 298
    },
    "colab_type": "code",
    "id": "sWtp4MZt62og",
    "outputId": "74d2f229-fc5e-453b-b552-787d0ff59d49"
   },
   "outputs": [],
   "source": [
    "fig = plt.figure()\n",
    "ax = fig.add_subplot(111)\n",
    "ax.plot(stats_df['gen'], [x[1] for x in stats_df['avg']], label='avg')\n",
    "ax.set_title('Avg Population heights during run')\n",
    "ax.set_xlabel('Generations')\n",
    "ax.set_ylabel('Height')\n",
    "ax.legend()\n",
    "plt.show()"
   ]
  },
  {
   "cell_type": "code",
   "execution_count": null,
   "metadata": {
    "colab": {},
    "colab_type": "code",
    "id": "J_7L2ocF7AD-"
   },
   "outputs": [],
   "source": [
    "def predict(model, sample):\n",
    "  func = toolbox.compile(model)\n",
    "  func(*sample)\n",
    "  "
   ]
  },
  {
   "cell_type": "markdown",
   "metadata": {
    "colab_type": "text",
    "id": "cFqZwpSyA-gl"
   },
   "source": [
    "Finally we create the `predict` function to see the actual output of our evolve model."
   ]
  },
  {
   "cell_type": "code",
   "execution_count": null,
   "metadata": {
    "colab": {
     "base_uri": "https://localhost:8080/",
     "height": 106
    },
    "colab_type": "code",
    "id": "z5iH7KUqAEOb",
    "outputId": "cbce569c-ff9d-4d95-fcf6-d290f797d488"
   },
   "outputs": [],
   "source": [
    "best = hof[0]\n",
    "print(predict(best, x_test[4]) , y_test[4])\n",
    "print(predict(best, x_test[7]) , y_test[7])\n",
    "print(predict(best, x_test[11]) , y_test[11])\n",
    "print(predict(best, x_test[12]) , y_test[12])\n",
    "print(predict(best, x_test[28]) , y_test[28])"
   ]
  }
 ],
 "metadata": {
  "colab": {
   "collapsed_sections": [],
   "name": "Predicting proce using STGP.ipynb",
   "provenance": [],
   "version": "0.3.2"
  },
  "kernelspec": {
   "display_name": "Python 3",
   "language": "python",
   "name": "python3"
  },
  "language_info": {
   "codemirror_mode": {
    "name": "ipython",
    "version": 3
   },
   "file_extension": ".py",
   "mimetype": "text/x-python",
   "name": "python",
   "nbconvert_exporter": "python",
   "pygments_lexer": "ipython3",
   "version": "3.6.8"
  }
 },
 "nbformat": 4,
 "nbformat_minor": 1
}

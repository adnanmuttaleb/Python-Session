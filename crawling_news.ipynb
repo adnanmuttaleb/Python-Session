{
 "cells": [
  {
   "cell_type": "code",
   "execution_count": 4,
   "metadata": {},
   "outputs": [],
   "source": [
    "import newspaper "
   ]
  },
  {
   "cell_type": "code",
   "execution_count": 5,
   "metadata": {},
   "outputs": [],
   "source": [
    "url = 'https://edition.cnn.com/2019/11/20/business/uaw-president/index.html'"
   ]
  },
  {
   "cell_type": "code",
   "execution_count": 6,
   "metadata": {},
   "outputs": [],
   "source": [
    "art = newspaper.Article(url)"
   ]
  },
  {
   "cell_type": "code",
   "execution_count": 7,
   "metadata": {},
   "outputs": [],
   "source": [
    "art.download()"
   ]
  },
  {
   "cell_type": "code",
   "execution_count": null,
   "metadata": {},
   "outputs": [],
   "source": [
    "print(art.html)"
   ]
  },
  {
   "cell_type": "code",
   "execution_count": 8,
   "metadata": {},
   "outputs": [],
   "source": [
    "art.parse()"
   ]
  },
  {
   "cell_type": "code",
   "execution_count": 32,
   "metadata": {},
   "outputs": [
    {
     "name": "stdout",
     "output_type": "stream",
     "text": [
      "What's happening in Iran?\n",
      "2019-11-20 00:00:00\n",
      "['Sara Mazloumsaki', 'Lauren Said-Moorhouse']\n"
     ]
    }
   ],
   "source": [
    "print(art.title)\n",
    "print(art.publish_date)\n",
    "print(art.authors)"
   ]
  },
  {
   "cell_type": "code",
   "execution_count": 12,
   "metadata": {},
   "outputs": [
    {
     "data": {
      "text/plain": [
       "'https://cdn.cnn.com/cnnnext/dam/assets/190828132210-uaw-president-gary-jones-super-tease.jpg'"
      ]
     },
     "execution_count": 12,
     "metadata": {},
     "output_type": "execute_result"
    }
   ],
   "source": [
    "art.top_image"
   ]
  },
  {
   "cell_type": "code",
   "execution_count": 13,
   "metadata": {},
   "outputs": [],
   "source": [
    "cnn = newspaper.build('https://cnn.com')"
   ]
  },
  {
   "cell_type": "code",
   "execution_count": 21,
   "metadata": {},
   "outputs": [
    {
     "name": "stdout",
     "output_type": "stream",
     "text": [
      "https://cnn.com\n",
      "http://edition.cnn.com\n",
      "https://cnn.com/specials\n",
      "https://www.cnn.com\n",
      "http://cnn.it\n",
      "https://cnn.com/world\n",
      "https://cnn.com/vr\n",
      "https://cnn.com/uk\n",
      "https://commercial.cnn.com\n",
      "https://cnn.com/msa\n",
      "https://cnn.com/entertainment\n",
      "https://cnn.com/asia\n",
      "https://cnn.com/more\n",
      "https://cnn.com/health\n",
      "https://cnn.com/australia\n",
      "https://cnn.com/transcripts\n",
      "https://cnn.com/africa\n",
      "https://cnn.com/americas\n",
      "https://cnn.com/china\n",
      "https://cnn.com/india\n",
      "https://cnn.com/accessibility\n",
      "https://cnn.com/travel\n",
      "http://arabic.cnn.com\n",
      "https://cnn.com/middle-east\n",
      "https://cnn.com/business\n",
      "https://cnn.com/videos\n",
      "https://cnn.com/sport\n",
      "https://cnn.com/politics\n",
      "http://cnnespanol.cnn.com\n",
      "https://cnn.com/style\n",
      "https://cnn.com/collection\n",
      "https://cnn.com/europe\n",
      "http://us.cnn.com\n",
      "https://money.cnn.com\n"
     ]
    }
   ],
   "source": [
    "for cat in cnn.category_urls():\n",
    "    print(cat)"
   ]
  },
  {
   "cell_type": "code",
   "execution_count": 22,
   "metadata": {},
   "outputs": [
    {
     "name": "stdout",
     "output_type": "stream",
     "text": [
      "886\n"
     ]
    }
   ],
   "source": [
    "print(len(cnn.articles))"
   ]
  },
  {
   "cell_type": "code",
   "execution_count": 31,
   "metadata": {},
   "outputs": [
    {
     "name": "stdout",
     "output_type": "stream",
     "text": [
      "Latest Headlines on CNN Business\n",
      "Rugby World Cup 2019\n",
      "Latest Headlines on CNN Business\n",
      "Rugby World Cup 2019\n",
      "Latest Headlines on CNN Business\n",
      "Rugby World Cup 2019\n",
      "Breaking News, US News, World News and Video\n",
      "['world', 'video', 'breaking']\n",
      "Breaking News, US News, World News and Video\n",
      "['world', 'video', 'breaking']\n",
      "Starlux, Taiwan's newest airline, lands with a Shakespearean origin story\n",
      "What's happening in Iran?\n"
     ]
    }
   ],
   "source": [
    "for art in cnn.articles[:10]:\n",
    "    try:\n",
    "        art.download()\n",
    "        art.parse()\n",
    "        print(art.title)\n",
    "        art.nlp()\n",
    "        print(art.keywords)\n",
    "    except:\n",
    "        pass\n"
   ]
  },
  {
   "cell_type": "code",
   "execution_count": null,
   "metadata": {},
   "outputs": [],
   "source": []
  }
 ],
 "metadata": {
  "kernelspec": {
   "display_name": "Python 3",
   "language": "python",
   "name": "python3"
  },
  "language_info": {
   "codemirror_mode": {
    "name": "ipython",
    "version": 3
   },
   "file_extension": ".py",
   "mimetype": "text/x-python",
   "name": "python",
   "nbconvert_exporter": "python",
   "pygments_lexer": "ipython3",
   "version": "3.6.8"
  }
 },
 "nbformat": 4,
 "nbformat_minor": 4
}
